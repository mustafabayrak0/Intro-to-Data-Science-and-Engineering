{
 "cells": [
  {
   "cell_type": "markdown",
   "id": "48816294",
   "metadata": {},
   "source": [
    "\n",
    "# YZV-211E Introduction to Data Science and Engineering\n",
    "\n",
    "\n",
    "## Homework 4: Building and Evaluating Machine Learning Models\n",
    "\n",
    "**Fall 2022**<br>\n",
    "**Instructor:** *Asst. Prof. Dr. Faik Boray TEK* <br>\n",
    "**Reach out to TA Erhan Bicer for any of your questions (bicer21@itu.edu.tr)**\n",
    "\n",
    "---\n",
    "\n"
   ]
  },
  {
   "cell_type": "markdown",
   "id": "35e3f6f8",
   "metadata": {},
   "source": [
    "In this assignment, you will be practicing:\n",
    "* Regression\n",
    "* Classification\n",
    "* Clustering\n",
    "* Evaluating ML models"
   ]
  },
  {
   "cell_type": "markdown",
   "id": "caea5a48",
   "metadata": {},
   "source": [
    "**Before diving into solving assignment**:\n",
    "* Use random_state parameter as 0 if the parameter exists to avoid different solutions if the code is re-executed.\n",
    "* You can add cells within the headers for your code.\n",
    "* Prefarably, use models within the sklearn. \n",
    "* Write your name, surname and student number in the below markdown.\n",
    "* This is the last homework before the project, thanks for your efforts so far. Keep up the good work, the semester is almost done :)\n"
   ]
  },
  {
   "cell_type": "code",
   "execution_count": 1159,
   "id": "e7310457",
   "metadata": {},
   "outputs": [],
   "source": [
    "import numpy as np\n",
    "np.random.seed(42) # meaning of life: 42"
   ]
  },
  {
   "cell_type": "markdown",
   "id": "60adc520",
   "metadata": {},
   "source": [
    "### Submitted by:\n",
    "Mustafa Bayrak,150210339"
   ]
  },
  {
   "cell_type": "markdown",
   "id": "fe6589f8",
   "metadata": {},
   "source": [
    "### Import necessary packages"
   ]
  },
  {
   "cell_type": "markdown",
   "id": "a1ea8870",
   "metadata": {},
   "source": [
    "Import packages that you are going to use, do not remove already existing ones."
   ]
  },
  {
   "cell_type": "code",
   "execution_count": 1160,
   "id": "c774f0b5",
   "metadata": {},
   "outputs": [
    {
     "name": "stdout",
     "output_type": "stream",
     "text": [
      "Requirement already satisfied: palmerpenguins in c:\\users\\hp\\anaconda3\\lib\\site-packages (0.1.4)\n",
      "Requirement already satisfied: pandas in c:\\users\\hp\\anaconda3\\lib\\site-packages (from palmerpenguins) (1.4.2)\n",
      "Requirement already satisfied: numpy in c:\\users\\hp\\anaconda3\\lib\\site-packages (from palmerpenguins) (1.23.4)\n",
      "Requirement already satisfied: python-dateutil>=2.8.1 in c:\\users\\hp\\anaconda3\\lib\\site-packages (from pandas->palmerpenguins) (2.8.2)\n",
      "Requirement already satisfied: pytz>=2020.1 in c:\\users\\hp\\anaconda3\\lib\\site-packages (from pandas->palmerpenguins) (2021.3)\n",
      "Requirement already satisfied: six>=1.5 in c:\\users\\hp\\anaconda3\\lib\\site-packages (from python-dateutil>=2.8.1->pandas->palmerpenguins) (1.16.0)\n",
      "Note: you may need to restart the kernel to use updated packages.\n"
     ]
    }
   ],
   "source": [
    "%pip install palmerpenguins"
   ]
  },
  {
   "cell_type": "code",
   "execution_count": 1161,
   "id": "96afd403",
   "metadata": {},
   "outputs": [],
   "source": [
    "###\n",
    "import numpy as np\n",
    "import pandas as pd\n",
    "import matplotlib.pyplot as plt\n",
    "from sklearn.datasets import load_breast_cancer\n",
    "from sklearn.linear_model import LinearRegression\n",
    "from sklearn import metrics\n",
    "from sklearn.preprocessing import PolynomialFeatures\n",
    "from sklearn.pipeline import make_pipeline\n",
    "from sklearn.model_selection import train_test_split\n",
    "from sklearn.linear_model import LogisticRegression\n",
    "from sklearn.model_selection import GridSearchCV\n",
    "import seaborn as sns\n",
    "from sklearn.metrics import confusion_matrix\n",
    "from sklearn.metrics import roc_curve, precision_recall_curve,roc_auc_score\n",
    "from palmerpenguins import load_penguins\n",
    "from sklearn.cluster import KMeans\n",
    "from sklearn.decomposition import PCA\n",
    "from sklearn import tree\n",
    "from sklearn.naive_bayes import GaussianNB\n",
    "from sklearn.metrics import accuracy_score\n",
    "from sklearn import preprocessing\n",
    "from sklearn.metrics import accuracy_score, precision_score, recall_score, f1_score\n",
    "from sklearn.preprocessing import StandardScaler\n",
    "from sklearn.model_selection import KFold"
   ]
  },
  {
   "cell_type": "markdown",
   "id": "32c1b5ca",
   "metadata": {},
   "source": [
    "## Regression"
   ]
  },
  {
   "cell_type": "markdown",
   "id": "5f3fadfd",
   "metadata": {},
   "source": [
    "*Recall: In regression task, aim is to make predictions on continous values (e.g. predicting expected income in next month for a company)*"
   ]
  },
  {
   "cell_type": "markdown",
   "id": "3c8cc433",
   "metadata": {},
   "source": [
    "A NASA dataset about average temperature is given. In the dataset, annual difference in average global temperature is given. Your task is to use the data between **1880 and 2010 (inclusive) to train your model** and **make predictions for upcoming years after 2010 (2011-2021)**. **Evaluate your model with actual annual difference for these years**."
   ]
  },
  {
   "cell_type": "markdown",
   "id": "8a22a0ed",
   "metadata": {},
   "source": [
    "Here, the csv is read and the first elements of the dataset are shown."
   ]
  },
  {
   "cell_type": "code",
   "execution_count": 1162,
   "id": "f17d30a4",
   "metadata": {},
   "outputs": [
    {
     "data": {
      "text/html": [
       "<div>\n",
       "<style scoped>\n",
       "    .dataframe tbody tr th:only-of-type {\n",
       "        vertical-align: middle;\n",
       "    }\n",
       "\n",
       "    .dataframe tbody tr th {\n",
       "        vertical-align: top;\n",
       "    }\n",
       "\n",
       "    .dataframe thead th {\n",
       "        text-align: right;\n",
       "    }\n",
       "</style>\n",
       "<table border=\"1\" class=\"dataframe\">\n",
       "  <thead>\n",
       "    <tr style=\"text-align: right;\">\n",
       "      <th></th>\n",
       "      <th>Year</th>\n",
       "      <th>Difference</th>\n",
       "    </tr>\n",
       "  </thead>\n",
       "  <tbody>\n",
       "    <tr>\n",
       "      <th>0</th>\n",
       "      <td>1880</td>\n",
       "      <td>-0.16</td>\n",
       "    </tr>\n",
       "    <tr>\n",
       "      <th>1</th>\n",
       "      <td>1881</td>\n",
       "      <td>-0.07</td>\n",
       "    </tr>\n",
       "    <tr>\n",
       "      <th>2</th>\n",
       "      <td>1882</td>\n",
       "      <td>-0.10</td>\n",
       "    </tr>\n",
       "    <tr>\n",
       "      <th>3</th>\n",
       "      <td>1883</td>\n",
       "      <td>-0.17</td>\n",
       "    </tr>\n",
       "    <tr>\n",
       "      <th>4</th>\n",
       "      <td>1884</td>\n",
       "      <td>-0.28</td>\n",
       "    </tr>\n",
       "  </tbody>\n",
       "</table>\n",
       "</div>"
      ],
      "text/plain": [
       "   Year  Difference\n",
       "0  1880       -0.16\n",
       "1  1881       -0.07\n",
       "2  1882       -0.10\n",
       "3  1883       -0.17\n",
       "4  1884       -0.28"
      ]
     },
     "execution_count": 1162,
     "metadata": {},
     "output_type": "execute_result"
    }
   ],
   "source": [
    "df = pd.read_csv(\"nasa-temperature.txt\",sep=\",\",index_col=0)\n",
    "df.head()"
   ]
  },
  {
   "cell_type": "markdown",
   "id": "803d567c",
   "metadata": {},
   "source": [
    "### Training-Test Split"
   ]
  },
  {
   "cell_type": "markdown",
   "id": "f343b7d4",
   "metadata": {},
   "source": [
    "Since this is a temporal (time-based) dataset, training-test split should be done carefully. Aim is to use historical data to predict annual difference in upcoming years.\n",
    "* Use the data between **1880 and 2010 (inclusive) as training set**\n",
    "* **test set consist of samples after 2010 (2011-2021)**."
   ]
  },
  {
   "cell_type": "markdown",
   "id": "94239d0f",
   "metadata": {},
   "source": [
    "The test and train sets were split according to the 'Year' column."
   ]
  },
  {
   "cell_type": "code",
   "execution_count": 1163,
   "id": "6db365ba",
   "metadata": {},
   "outputs": [],
   "source": [
    "train_set_X = np.array(df[df['Year'] <= 2010]['Year']).reshape(-1,1)\n",
    "train_set_y = df[df['Year'] <= 2010]['Difference']\n",
    "test_set_X = np.array(df[df['Year'] >2010]['Year']).reshape(-1,1)\n",
    "test_set_y = df[df['Year'] >2010]['Difference']"
   ]
  },
  {
   "cell_type": "markdown",
   "id": "013f3c44",
   "metadata": {},
   "source": [
    "### Apply simple linear regression"
   ]
  },
  {
   "cell_type": "markdown",
   "id": "2b501feb",
   "metadata": {},
   "source": [
    "* Apply simple linear regression\n",
    "* Plot the actual values and predictions (plot both train and test predictions together for complete view).\n",
    "* Using appropriate metrics (at least 2), report how well your regression line fit to both training data and testing data."
   ]
  },
  {
   "cell_type": "markdown",
   "id": "672fde40",
   "metadata": {},
   "source": [
    "Linear regression was applied and predictions were obtained."
   ]
  },
  {
   "cell_type": "code",
   "execution_count": 1164,
   "id": "bfbe7eca",
   "metadata": {},
   "outputs": [],
   "source": [
    "lin_reg = LinearRegression()\n",
    "lin_reg.fit(train_set_X,train_set_y)\n",
    "# Make prediction on training set\n",
    "train_predict = lin_reg.predict(train_set_X)\n",
    "# Make prediction on testing set\n",
    "test_predict = lin_reg.predict(test_set_X)"
   ]
  },
  {
   "cell_type": "markdown",
   "id": "42bc5f91",
   "metadata": {},
   "source": [
    "Plot the actual values and predictions"
   ]
  },
  {
   "cell_type": "code",
   "execution_count": 1165,
   "id": "545df659",
   "metadata": {},
   "outputs": [
    {
     "data": {
      "text/plain": [
       "[<matplotlib.lines.Line2D at 0x2bcda480ca0>]"
      ]
     },
     "execution_count": 1165,
     "metadata": {},
     "output_type": "execute_result"
    },
    {
     "data": {
      "image/png": "[encoded data removed]",
      "text/plain": [
       "<Figure size 432x288 with 1 Axes>"
      ]
     },
     "metadata": {
      "needs_background": "light"
     },
     "output_type": "display_data"
    }
   ],
   "source": [
    "# Plot actual values\n",
    "plt.plot(df[\"Year\"],df[\"Difference\"],'o')\n",
    "# plot train set and prediction\n",
    "plt.plot(train_set_X,train_predict,'r')\n",
    "# plot test set and prediction\n",
    "plt.plot(test_set_X,test_predict,'g')"
   ]
  },
  {
   "cell_type": "markdown",
   "id": "d98b3813",
   "metadata": {},
   "source": [
    "According to these metrics, regression line does not fit testing data well."
   ]
  },
  {
   "cell_type": "code",
   "execution_count": 1166,
   "id": "a917c080",
   "metadata": {},
   "outputs": [
    {
     "name": "stdout",
     "output_type": "stream",
     "text": [
      "Mean Squared error test= 0.16525922756777783\n",
      "Mean absolute error test= 0.3865634441893992\n"
     ]
    }
   ],
   "source": [
    "#compute mean squared error\n",
    "mean_squared_error_test = metrics.mean_squared_error(test_set_y,test_predict)\n",
    "#compute mean absolute error\n",
    "mean_absolute_error_test = metrics.mean_absolute_error(test_set_y,test_predict)\n",
    "print(\"Mean Squared error test=\",mean_squared_error_test)\n",
    "print(\"Mean absolute error test=\",mean_absolute_error_test)"
   ]
  },
  {
   "cell_type": "markdown",
   "id": "47df1843",
   "metadata": {},
   "source": [
    "According to these metrics, regression line does not fit training data so well but better than testing data."
   ]
  },
  {
   "cell_type": "code",
   "execution_count": 1167,
   "id": "e9e6b679",
   "metadata": {},
   "outputs": [
    {
     "name": "stdout",
     "output_type": "stream",
     "text": [
      "Mean Squared error train= 0.023846435876925372\n",
      "Mean absolute error train= 0.12842182245235678\n"
     ]
    }
   ],
   "source": [
    "#compute mean squared error\n",
    "mean_squared_error_train = metrics.mean_squared_error(train_set_y,train_predict)\n",
    "# compute mean absolute error\n",
    "mean_absolute_error_train = metrics.mean_absolute_error(train_set_y,train_predict)\n",
    "print(\"Mean Squared error train=\",mean_squared_error_train)\n",
    "print(\"Mean absolute error train=\",mean_absolute_error_train)"
   ]
  },
  {
   "cell_type": "markdown",
   "id": "decc6d0f",
   "metadata": {},
   "source": [
    "### Polynomial Regression"
   ]
  },
  {
   "cell_type": "markdown",
   "id": "62ef6edb",
   "metadata": {},
   "source": [
    "* Apply polynomial regression. Decide on optimal degree.\n",
    "* Plot the actual values and predictions (plot both train and test predictions together for complete view).\n",
    "* Using appropriate metrics (at least 2), report how well your regression line fit to both training data and testing data.\n",
    "* Answer Question 1."
   ]
  },
  {
   "cell_type": "markdown",
   "id": "51e9e224",
   "metadata": {},
   "source": [
    "Optimal degree in the range from 1 to 40 is 31."
   ]
  },
  {
   "cell_type": "code",
   "execution_count": 1168,
   "id": "2d3d1ec6",
   "metadata": {},
   "outputs": [
    {
     "name": "stdout",
     "output_type": "stream",
     "text": [
      "Optimal degree: 31\n"
     ]
    }
   ],
   "source": [
    "best_score = 0\n",
    "optimal_degree = 1\n",
    "# Find optimal degree by iterating between 1-40\n",
    "for i in range(1,40):\n",
    "    lin_model= LinearRegression()\n",
    "    poly = PolynomialFeatures(degree=i)\n",
    "    x_poly = poly.fit_transform(train_set_X)\n",
    "    lin_model.fit(x_poly, train_set_y)\n",
    "    pred = lin_model.predict(x_poly)\n",
    "    score = lin_model.score(x_poly,train_set_y)\n",
    "    if score > best_score:\n",
    "        optimal_degree= i\n",
    "        best_score = score\n",
    "print(\"Optimal degree:\",optimal_degree)"
   ]
  },
  {
   "cell_type": "markdown",
   "id": "135fc8ff",
   "metadata": {},
   "source": [
    "Polynomial regression with optimal degree."
   ]
  },
  {
   "cell_type": "code",
   "execution_count": 1169,
   "id": "cd035186",
   "metadata": {},
   "outputs": [],
   "source": [
    "lin_model= LinearRegression()\n",
    "# Apply polynomial regression with optimal degree\n",
    "poly = PolynomialFeatures(degree=optimal_degree)"
   ]
  },
  {
   "cell_type": "markdown",
   "id": "79df3ae8",
   "metadata": {},
   "source": [
    "Fit models"
   ]
  },
  {
   "cell_type": "code",
   "execution_count": 1170,
   "id": "c91d7e6c",
   "metadata": {},
   "outputs": [
    {
     "data": {
      "text/plain": [
       "LinearRegression()"
      ]
     },
     "execution_count": 1170,
     "metadata": {},
     "output_type": "execute_result"
    }
   ],
   "source": [
    "# Fit models\n",
    "X_train_poly = poly.fit_transform(train_set_X)\n",
    "X_test_poly = poly.fit_transform(test_set_X)\n",
    "lin_model.fit(X_train_poly, train_set_y)"
   ]
  },
  {
   "cell_type": "markdown",
   "id": "6e94d960",
   "metadata": {},
   "source": [
    "Make predictions."
   ]
  },
  {
   "cell_type": "code",
   "execution_count": 1171,
   "id": "0d874b2d",
   "metadata": {},
   "outputs": [],
   "source": [
    "# Make prediction\n",
    "y_train_pred_poly = lin_model.predict(X_train_poly)\n",
    "y_test_pred_poly = lin_model.predict(X_test_poly)"
   ]
  },
  {
   "cell_type": "markdown",
   "id": "c88e22d1",
   "metadata": {},
   "source": [
    "Plot the actual values and predictions"
   ]
  },
  {
   "cell_type": "code",
   "execution_count": 1172,
   "id": "548c4c66",
   "metadata": {},
   "outputs": [
    {
     "data": {
      "text/plain": [
       "[<matplotlib.lines.Line2D at 0x2bcda33bfa0>]"
      ]
     },
     "execution_count": 1172,
     "metadata": {},
     "output_type": "execute_result"
    },
    {
     "data": {
      "image/png": "[encoded data removed]",
      "text/plain": [
       "<Figure size 432x288 with 1 Axes>"
      ]
     },
     "metadata": {
      "needs_background": "light"
     },
     "output_type": "display_data"
    }
   ],
   "source": [
    "# Plot actual values\n",
    "plt.plot(df[\"Year\"],df[\"Difference\"],'o')\n",
    "# Plot train set and prediction\n",
    "plt.plot(train_set_X,y_train_pred_poly,'r')\n",
    "# Plot test set and prediction\n",
    "plt.plot(test_set_X,y_test_pred_poly,'g')"
   ]
  },
  {
   "cell_type": "markdown",
   "id": "6d9bf9fa",
   "metadata": {},
   "source": [
    "According to these metrics, regression line does fits testing data well (better than linear reg. line)."
   ]
  },
  {
   "cell_type": "code",
   "execution_count": 1173,
   "id": "bc6ce919",
   "metadata": {},
   "outputs": [
    {
     "name": "stdout",
     "output_type": "stream",
     "text": [
      "Mean squared error test= 0.009010827970229366\n",
      "Mean absolute error test= 0.08688171034571966\n"
     ]
    }
   ],
   "source": [
    "# Compute mean squared error\n",
    "mean_squared_error_test_poly = metrics.mean_squared_error(test_set_y,y_test_pred_poly)\n",
    "# Compute mean absolute error\n",
    "mean_absolute_error_test_poly = metrics.mean_absolute_error(test_set_y,y_test_pred_poly)\n",
    "print(\"Mean squared error test=\",mean_squared_error_test_poly)\n",
    "print(\"Mean absolute error test=\",mean_absolute_error_test_poly)"
   ]
  },
  {
   "cell_type": "markdown",
   "id": "87942bcd",
   "metadata": {},
   "source": [
    "According to these metrics, regression line fits training data well (better than linear reg. line)."
   ]
  },
  {
   "cell_type": "code",
   "execution_count": 1174,
   "id": "9ba4c78b",
   "metadata": {},
   "outputs": [
    {
     "name": "stdout",
     "output_type": "stream",
     "text": [
      "Mean squared error train= 0.01335645992445441\n",
      "Mean absolute error train= 0.09410328342436634\n"
     ]
    }
   ],
   "source": [
    "# Compute mean squared error\n",
    "mean_squared_error_train_poly = metrics.mean_squared_error(train_set_y,y_train_pred_poly)\n",
    "# Compute mean absolute error\n",
    "mean_absolute_error_train_poly = metrics.mean_absolute_error(train_set_y,y_train_pred_poly)\n",
    "print(\"Mean squared error train=\",mean_squared_error_train_poly)\n",
    "print(\"Mean absolute error train=\",mean_absolute_error_train_poly)"
   ]
  },
  {
   "cell_type": "markdown",
   "id": "d47287ee",
   "metadata": {},
   "source": [
    "### Question 1 \n",
    "* Which metrics have you chosen? Why?\n",
    "* Compare the results of polynomial regression with linear regression. Which one is better in terms of evaluation metrics? Which one represents the data better? **Why?**"
   ]
  },
  {
   "cell_type": "markdown",
   "id": "03db81bd",
   "metadata": {},
   "source": [
    "**Your Answer:** I chose mean squared error and mean absolute error as metrics. I chose mean squared error because it is sensitive to outliers, and mean absolute error because it is not sensitive to outliers. This way, I was able to calculate the errors regardless of whether there were outliers in the dataset. When comparing linear regression and polynomial regression using these metrics, we can see that polynomial regression produces better results. By examining the graphs and results, we can say that polynomial regression better represents the data because data does not have a linear distribution."
   ]
  },
  {
   "cell_type": "markdown",
   "id": "0554cba7",
   "metadata": {},
   "source": [
    "## Classification"
   ]
  },
  {
   "cell_type": "markdown",
   "id": "87386c76",
   "metadata": {},
   "source": [
    "*Recall: In classification, goal is to classify samples (e.g. classifying various flowers such as iris-setosa, iris-versicolour)*"
   ]
  },
  {
   "cell_type": "markdown",
   "id": "50ad5d14",
   "metadata": {},
   "source": [
    "We will be working with breast cancer wisconsin dataset. The breast cancer dataset is a classic binary classification dataset. Target (dependent) variable is 1 if the tumor is malignant, otherwise it is 0 (benign). Independent variables are medical measures of the cancer cell. Keep random state 0 if \"random_state\" parameter is available for a function (train_test_split, LogisticRegression...)"
   ]
  },
  {
   "cell_type": "markdown",
   "id": "70e76694",
   "metadata": {},
   "source": [
    "### Load Dataset: Get X (Independent Variables) and y (Target Dependent Variable)"
   ]
  },
  {
   "cell_type": "markdown",
   "id": "eef5fedd",
   "metadata": {},
   "source": [
    "Load breast cancer dataset"
   ]
  },
  {
   "cell_type": "code",
   "execution_count": 1175,
   "id": "640f30ec",
   "metadata": {},
   "outputs": [],
   "source": [
    "X,y = load_breast_cancer(return_X_y=True)"
   ]
  },
  {
   "cell_type": "markdown",
   "id": "a13e7337",
   "metadata": {},
   "source": [
    "### Split Dataset into Training and Testing"
   ]
  },
  {
   "cell_type": "markdown",
   "id": "2f14cc6e",
   "metadata": {},
   "source": [
    "Split the data randomly (**using random_state 0, if needed**) into train and test sets with **80% and 20%** sizes respectively."
   ]
  },
  {
   "cell_type": "markdown",
   "id": "6dc5d96d",
   "metadata": {},
   "source": [
    "Split the data randomly into train and test sets"
   ]
  },
  {
   "cell_type": "code",
   "execution_count": 1176,
   "id": "2ec8184d",
   "metadata": {},
   "outputs": [],
   "source": [
    "X_train, X_test, y_train, y_test = train_test_split(X,y,test_size=0.2,random_state=0)"
   ]
  },
  {
   "cell_type": "markdown",
   "id": "8b4ff5f1",
   "metadata": {},
   "source": [
    "### Apply Logistic Regression\n",
    "* Perform hyperparameter optimization with **at least 4 different hyperparameter combinations** (4 training and testing). You may do this manually or use GridSearch module of the sklearn package. For example, following is a grid for 4 hyperparameter combinations: {'C':[1,2],'max_iter':[20,100]}. **Answer Question 2 based on this.**\n",
    "* Report the performance of the best logistic regression model (best performing parameters in the hyperparam. optimization) with appropriate metrics.\n",
    "* Plot confusion matrix of the predictions and actual values.\n",
    "* Answer Question 3\n",
    "* Plot AUC-ROC Curve, Precision-Recall Curve.\n",
    "* Answer Question 4\n",
    "* Apply 5-Fold Cross Validation on the **training data**. Report the validation results and performance on the **test set**. Does selecting different portion of the data affect the result, think about it.\n"
   ]
  },
  {
   "cell_type": "markdown",
   "id": "e9b1a7af",
   "metadata": {},
   "source": [
    "Apply logistic regression and perform hyperparameter optimization with 4 different hyperparameter combinations."
   ]
  },
  {
   "cell_type": "code",
   "execution_count": 1177,
   "id": "dd34db5b",
   "metadata": {},
   "outputs": [
    {
     "name": "stderr",
     "output_type": "stream",
     "text": [
      "C:\\Users\\Hp\\anaconda3\\lib\\site-packages\\sklearn\\linear_model\\_logistic.py:814: ConvergenceWarning: lbfgs failed to converge (status=1):\n",
      "STOP: TOTAL NO. of ITERATIONS REACHED LIMIT.\n",
      "\n",
      "Increase the number of iterations (max_iter) or scale the data as shown in:\n",
      "    https://scikit-learn.org/stable/modules/preprocessing.html\n",
      "Please also refer to the documentation for alternative solver options:\n",
      "    https://scikit-learn.org/stable/modules/linear_model.html#logistic-regression\n",
      "  n_iter_i = _check_optimize_result(\n",
      "C:\\Users\\Hp\\anaconda3\\lib\\site-packages\\sklearn\\linear_model\\_logistic.py:814: ConvergenceWarning: lbfgs failed to converge (status=1):\n",
      "STOP: TOTAL NO. of ITERATIONS REACHED LIMIT.\n",
      "\n",
      "Increase the number of iterations (max_iter) or scale the data as shown in:\n",
      "    https://scikit-learn.org/stable/modules/preprocessing.html\n",
      "Please also refer to the documentation for alternative solver options:\n",
      "    https://scikit-learn.org/stable/modules/linear_model.html#logistic-regression\n",
      "  n_iter_i = _check_optimize_result(\n",
      "C:\\Users\\Hp\\anaconda3\\lib\\site-packages\\sklearn\\linear_model\\_logistic.py:814: ConvergenceWarning: lbfgs failed to converge (status=1):\n",
      "STOP: TOTAL NO. of ITERATIONS REACHED LIMIT.\n",
      "\n",
      "Increase the number of iterations (max_iter) or scale the data as shown in:\n",
      "    https://scikit-learn.org/stable/modules/preprocessing.html\n",
      "Please also refer to the documentation for alternative solver options:\n",
      "    https://scikit-learn.org/stable/modules/linear_model.html#logistic-regression\n",
      "  n_iter_i = _check_optimize_result(\n",
      "C:\\Users\\Hp\\anaconda3\\lib\\site-packages\\sklearn\\linear_model\\_logistic.py:814: ConvergenceWarning: lbfgs failed to converge (status=1):\n",
      "STOP: TOTAL NO. of ITERATIONS REACHED LIMIT.\n",
      "\n",
      "Increase the number of iterations (max_iter) or scale the data as shown in:\n",
      "    https://scikit-learn.org/stable/modules/preprocessing.html\n",
      "Please also refer to the documentation for alternative solver options:\n",
      "    https://scikit-learn.org/stable/modules/linear_model.html#logistic-regression\n",
      "  n_iter_i = _check_optimize_result(\n",
      "C:\\Users\\Hp\\anaconda3\\lib\\site-packages\\sklearn\\linear_model\\_logistic.py:814: ConvergenceWarning: lbfgs failed to converge (status=1):\n",
      "STOP: TOTAL NO. of ITERATIONS REACHED LIMIT.\n",
      "\n",
      "Increase the number of iterations (max_iter) or scale the data as shown in:\n",
      "    https://scikit-learn.org/stable/modules/preprocessing.html\n",
      "Please also refer to the documentation for alternative solver options:\n",
      "    https://scikit-learn.org/stable/modules/linear_model.html#logistic-regression\n",
      "  n_iter_i = _check_optimize_result(\n",
      "C:\\Users\\Hp\\anaconda3\\lib\\site-packages\\sklearn\\linear_model\\_logistic.py:814: ConvergenceWarning: lbfgs failed to converge (status=1):\n",
      "STOP: TOTAL NO. of ITERATIONS REACHED LIMIT.\n",
      "\n",
      "Increase the number of iterations (max_iter) or scale the data as shown in:\n",
      "    https://scikit-learn.org/stable/modules/preprocessing.html\n",
      "Please also refer to the documentation for alternative solver options:\n",
      "    https://scikit-learn.org/stable/modules/linear_model.html#logistic-regression\n",
      "  n_iter_i = _check_optimize_result(\n",
      "C:\\Users\\Hp\\anaconda3\\lib\\site-packages\\sklearn\\linear_model\\_logistic.py:814: ConvergenceWarning: lbfgs failed to converge (status=1):\n",
      "STOP: TOTAL NO. of ITERATIONS REACHED LIMIT.\n",
      "\n",
      "Increase the number of iterations (max_iter) or scale the data as shown in:\n",
      "    https://scikit-learn.org/stable/modules/preprocessing.html\n",
      "Please also refer to the documentation for alternative solver options:\n",
      "    https://scikit-learn.org/stable/modules/linear_model.html#logistic-regression\n",
      "  n_iter_i = _check_optimize_result(\n",
      "C:\\Users\\Hp\\anaconda3\\lib\\site-packages\\sklearn\\linear_model\\_logistic.py:814: ConvergenceWarning: lbfgs failed to converge (status=1):\n",
      "STOP: TOTAL NO. of ITERATIONS REACHED LIMIT.\n",
      "\n",
      "Increase the number of iterations (max_iter) or scale the data as shown in:\n",
      "    https://scikit-learn.org/stable/modules/preprocessing.html\n",
      "Please also refer to the documentation for alternative solver options:\n",
      "    https://scikit-learn.org/stable/modules/linear_model.html#logistic-regression\n",
      "  n_iter_i = _check_optimize_result(\n",
      "C:\\Users\\Hp\\anaconda3\\lib\\site-packages\\sklearn\\linear_model\\_logistic.py:814: ConvergenceWarning: lbfgs failed to converge (status=1):\n",
      "STOP: TOTAL NO. of ITERATIONS REACHED LIMIT.\n",
      "\n",
      "Increase the number of iterations (max_iter) or scale the data as shown in:\n",
      "    https://scikit-learn.org/stable/modules/preprocessing.html\n",
      "Please also refer to the documentation for alternative solver options:\n",
      "    https://scikit-learn.org/stable/modules/linear_model.html#logistic-regression\n",
      "  n_iter_i = _check_optimize_result(\n",
      "C:\\Users\\Hp\\anaconda3\\lib\\site-packages\\sklearn\\linear_model\\_logistic.py:814: ConvergenceWarning: lbfgs failed to converge (status=1):\n",
      "STOP: TOTAL NO. of ITERATIONS REACHED LIMIT.\n",
      "\n",
      "Increase the number of iterations (max_iter) or scale the data as shown in:\n",
      "    https://scikit-learn.org/stable/modules/preprocessing.html\n",
      "Please also refer to the documentation for alternative solver options:\n",
      "    https://scikit-learn.org/stable/modules/linear_model.html#logistic-regression\n",
      "  n_iter_i = _check_optimize_result(\n",
      "C:\\Users\\Hp\\anaconda3\\lib\\site-packages\\sklearn\\linear_model\\_logistic.py:814: ConvergenceWarning: lbfgs failed to converge (status=1):\n",
      "STOP: TOTAL NO. of ITERATIONS REACHED LIMIT.\n",
      "\n",
      "Increase the number of iterations (max_iter) or scale the data as shown in:\n",
      "    https://scikit-learn.org/stable/modules/preprocessing.html\n",
      "Please also refer to the documentation for alternative solver options:\n",
      "    https://scikit-learn.org/stable/modules/linear_model.html#logistic-regression\n",
      "  n_iter_i = _check_optimize_result(\n",
      "C:\\Users\\Hp\\anaconda3\\lib\\site-packages\\sklearn\\linear_model\\_logistic.py:814: ConvergenceWarning: lbfgs failed to converge (status=1):\n",
      "STOP: TOTAL NO. of ITERATIONS REACHED LIMIT.\n",
      "\n",
      "Increase the number of iterations (max_iter) or scale the data as shown in:\n",
      "    https://scikit-learn.org/stable/modules/preprocessing.html\n",
      "Please also refer to the documentation for alternative solver options:\n",
      "    https://scikit-learn.org/stable/modules/linear_model.html#logistic-regression\n",
      "  n_iter_i = _check_optimize_result(\n",
      "C:\\Users\\Hp\\anaconda3\\lib\\site-packages\\sklearn\\linear_model\\_logistic.py:814: ConvergenceWarning: lbfgs failed to converge (status=1):\n",
      "STOP: TOTAL NO. of ITERATIONS REACHED LIMIT.\n",
      "\n",
      "Increase the number of iterations (max_iter) or scale the data as shown in:\n",
      "    https://scikit-learn.org/stable/modules/preprocessing.html\n",
      "Please also refer to the documentation for alternative solver options:\n",
      "    https://scikit-learn.org/stable/modules/linear_model.html#logistic-regression\n",
      "  n_iter_i = _check_optimize_result(\n",
      "C:\\Users\\Hp\\anaconda3\\lib\\site-packages\\sklearn\\linear_model\\_logistic.py:814: ConvergenceWarning: lbfgs failed to converge (status=1):\n",
      "STOP: TOTAL NO. of ITERATIONS REACHED LIMIT.\n",
      "\n",
      "Increase the number of iterations (max_iter) or scale the data as shown in:\n",
      "    https://scikit-learn.org/stable/modules/preprocessing.html\n",
      "Please also refer to the documentation for alternative solver options:\n",
      "    https://scikit-learn.org/stable/modules/linear_model.html#logistic-regression\n",
      "  n_iter_i = _check_optimize_result(\n",
      "C:\\Users\\Hp\\anaconda3\\lib\\site-packages\\sklearn\\linear_model\\_logistic.py:814: ConvergenceWarning: lbfgs failed to converge (status=1):\n",
      "STOP: TOTAL NO. of ITERATIONS REACHED LIMIT.\n",
      "\n",
      "Increase the number of iterations (max_iter) or scale the data as shown in:\n",
      "    https://scikit-learn.org/stable/modules/preprocessing.html\n",
      "Please also refer to the documentation for alternative solver options:\n",
      "    https://scikit-learn.org/stable/modules/linear_model.html#logistic-regression\n",
      "  n_iter_i = _check_optimize_result(\n",
      "C:\\Users\\Hp\\anaconda3\\lib\\site-packages\\sklearn\\linear_model\\_logistic.py:814: ConvergenceWarning: lbfgs failed to converge (status=1):\n",
      "STOP: TOTAL NO. of ITERATIONS REACHED LIMIT.\n",
      "\n",
      "Increase the number of iterations (max_iter) or scale the data as shown in:\n",
      "    https://scikit-learn.org/stable/modules/preprocessing.html\n",
      "Please also refer to the documentation for alternative solver options:\n",
      "    https://scikit-learn.org/stable/modules/linear_model.html#logistic-regression\n",
      "  n_iter_i = _check_optimize_result(\n",
      "C:\\Users\\Hp\\anaconda3\\lib\\site-packages\\sklearn\\linear_model\\_logistic.py:814: ConvergenceWarning: lbfgs failed to converge (status=1):\n",
      "STOP: TOTAL NO. of ITERATIONS REACHED LIMIT.\n",
      "\n",
      "Increase the number of iterations (max_iter) or scale the data as shown in:\n",
      "    https://scikit-learn.org/stable/modules/preprocessing.html\n",
      "Please also refer to the documentation for alternative solver options:\n",
      "    https://scikit-learn.org/stable/modules/linear_model.html#logistic-regression\n",
      "  n_iter_i = _check_optimize_result(\n",
      "C:\\Users\\Hp\\anaconda3\\lib\\site-packages\\sklearn\\linear_model\\_logistic.py:814: ConvergenceWarning: lbfgs failed to converge (status=1):\n",
      "STOP: TOTAL NO. of ITERATIONS REACHED LIMIT.\n",
      "\n",
      "Increase the number of iterations (max_iter) or scale the data as shown in:\n",
      "    https://scikit-learn.org/stable/modules/preprocessing.html\n",
      "Please also refer to the documentation for alternative solver options:\n",
      "    https://scikit-learn.org/stable/modules/linear_model.html#logistic-regression\n",
      "  n_iter_i = _check_optimize_result(\n",
      "C:\\Users\\Hp\\anaconda3\\lib\\site-packages\\sklearn\\linear_model\\_logistic.py:814: ConvergenceWarning: lbfgs failed to converge (status=1):\n",
      "STOP: TOTAL NO. of ITERATIONS REACHED LIMIT.\n",
      "\n",
      "Increase the number of iterations (max_iter) or scale the data as shown in:\n",
      "    https://scikit-learn.org/stable/modules/preprocessing.html\n",
      "Please also refer to the documentation for alternative solver options:\n",
      "    https://scikit-learn.org/stable/modules/linear_model.html#logistic-regression\n",
      "  n_iter_i = _check_optimize_result(\n",
      "C:\\Users\\Hp\\anaconda3\\lib\\site-packages\\sklearn\\linear_model\\_logistic.py:814: ConvergenceWarning: lbfgs failed to converge (status=1):\n",
      "STOP: TOTAL NO. of ITERATIONS REACHED LIMIT.\n",
      "\n",
      "Increase the number of iterations (max_iter) or scale the data as shown in:\n",
      "    https://scikit-learn.org/stable/modules/preprocessing.html\n",
      "Please also refer to the documentation for alternative solver options:\n",
      "    https://scikit-learn.org/stable/modules/linear_model.html#logistic-regression\n",
      "  n_iter_i = _check_optimize_result(\n"
     ]
    },
    {
     "name": "stderr",
     "output_type": "stream",
     "text": [
      "C:\\Users\\Hp\\anaconda3\\lib\\site-packages\\sklearn\\linear_model\\_logistic.py:814: ConvergenceWarning: lbfgs failed to converge (status=1):\n",
      "STOP: TOTAL NO. of ITERATIONS REACHED LIMIT.\n",
      "\n",
      "Increase the number of iterations (max_iter) or scale the data as shown in:\n",
      "    https://scikit-learn.org/stable/modules/preprocessing.html\n",
      "Please also refer to the documentation for alternative solver options:\n",
      "    https://scikit-learn.org/stable/modules/linear_model.html#logistic-regression\n",
      "  n_iter_i = _check_optimize_result(\n"
     ]
    }
   ],
   "source": [
    "log_model = LogisticRegression()\n",
    "# perform hyperparameter optimization\n",
    "param_grid = {'C':[1, 2], 'max_iter':[20, 100]}\n",
    "grid_search = GridSearchCV(log_model, param_grid)\n",
    "#Fit model\n",
    "grid_search.fit(X_train, y_train)\n",
    "# Make prediction\n",
    "y_pred = grid_search.predict(X_test)"
   ]
  },
  {
   "cell_type": "markdown",
   "id": "3c40c37c",
   "metadata": {},
   "source": [
    "Recall = tp/(tp+fn).Recall score is high, so model has high accuracy to classify positive values."
   ]
  },
  {
   "cell_type": "code",
   "execution_count": 1178,
   "id": "a3884b59",
   "metadata": {},
   "outputs": [
    {
     "data": {
      "text/plain": [
       "0.9402985074626866"
      ]
     },
     "execution_count": 1178,
     "metadata": {},
     "output_type": "execute_result"
    }
   ],
   "source": [
    "#Compute recall score\n",
    "recall = recall_score(y_test, y_pred)\n",
    "recall"
   ]
  },
  {
   "cell_type": "markdown",
   "id": "9152d0fc",
   "metadata": {},
   "source": [
    "AUC-ROC score is high. So area under ROC curve is close to 1. That means, data is well seperable."
   ]
  },
  {
   "cell_type": "code",
   "execution_count": 1179,
   "id": "e00a1e18",
   "metadata": {},
   "outputs": [
    {
     "data": {
      "text/plain": [
       "0.9595109558590028"
      ]
     },
     "execution_count": 1179,
     "metadata": {},
     "output_type": "execute_result"
    }
   ],
   "source": [
    "#Cpmpute auc\n",
    "auc_roc = roc_auc_score(y_test, y_pred)\n",
    "auc_roc"
   ]
  },
  {
   "cell_type": "markdown",
   "id": "e8fdacfd",
   "metadata": {},
   "source": [
    "Accuracy score is high so model classifies well."
   ]
  },
  {
   "cell_type": "code",
   "execution_count": 1180,
   "id": "b12ca573",
   "metadata": {},
   "outputs": [
    {
     "data": {
      "text/plain": [
       "0.956140350877193"
      ]
     },
     "execution_count": 1180,
     "metadata": {},
     "output_type": "execute_result"
    }
   ],
   "source": [
    "#Compute accuracy\n",
    "accuracy = accuracy_score(y_test, y_pred)\n",
    "accuracy"
   ]
  },
  {
   "cell_type": "markdown",
   "id": "6a770805",
   "metadata": {},
   "source": [
    "Precision= tp / (tp+fp).The precision score is high, so if the model classifies an element as positive, then it is likely that it is truly positive."
   ]
  },
  {
   "cell_type": "code",
   "execution_count": 1181,
   "id": "27e169ad",
   "metadata": {},
   "outputs": [
    {
     "data": {
      "text/plain": [
       "0.984375"
      ]
     },
     "execution_count": 1181,
     "metadata": {},
     "output_type": "execute_result"
    }
   ],
   "source": [
    "#Compute precision\n",
    "precision = precision_score(y_test, y_pred)\n",
    "precision"
   ]
  },
  {
   "cell_type": "markdown",
   "id": "5d203c92",
   "metadata": {},
   "source": [
    "Compute and plot the confusion matrix"
   ]
  },
  {
   "cell_type": "code",
   "execution_count": 1182,
   "id": "f5887968",
   "metadata": {},
   "outputs": [
    {
     "data": {
      "image/png": "[encoded data removed]",
      "text/plain": [
       "<Figure size 432x288 with 2 Axes>"
      ]
     },
     "metadata": {
      "needs_background": "light"
     },
     "output_type": "display_data"
    }
   ],
   "source": [
    "# Plot confusion matrix\n",
    "cm = confusion_matrix(y_test, y_pred)\n",
    "sns.heatmap(cm, annot=True)\n",
    "plt.xlabel(\"Predicted label\")\n",
    "plt.ylabel(\"True label\")\n",
    "plt.title(\"Confusion Matrix\")\n",
    "plt.show()"
   ]
  },
  {
   "cell_type": "markdown",
   "id": "63ba98a6",
   "metadata": {},
   "source": [
    "Compute the ROC curve and plot"
   ]
  },
  {
   "cell_type": "code",
   "execution_count": 1183,
   "id": "587cb9aa",
   "metadata": {},
   "outputs": [],
   "source": [
    "# Find probability\n",
    "y_proba = grid_search.predict_proba(X_test)[:, 1]\n",
    "false_positive, true_positive, thresholds = roc_curve(y_test, y_proba)"
   ]
  },
  {
   "cell_type": "code",
   "execution_count": 1184,
   "id": "3db01095",
   "metadata": {},
   "outputs": [
    {
     "data": {
      "image/png": "[encoded data removed]",
      "text/plain": [
       "<Figure size 432x288 with 1 Axes>"
      ]
     },
     "metadata": {
      "needs_background": "light"
     },
     "output_type": "display_data"
    }
   ],
   "source": [
    "# Plot ROC curve\n",
    "plt.plot(false_positive, true_positive)\n",
    "plt.xlabel(\"False Positive Rate\")\n",
    "plt.ylabel(\"True Positive Rate\")\n",
    "plt.title(\"ROC Curve\")\n",
    "plt.show()"
   ]
  },
  {
   "cell_type": "code",
   "execution_count": 1185,
   "id": "55c3bd72",
   "metadata": {},
   "outputs": [],
   "source": [
    "predictions = grid_search.predict_proba(X_test)[:, 1]"
   ]
  },
  {
   "cell_type": "markdown",
   "id": "44926e2e",
   "metadata": {},
   "source": [
    "Compute auc score"
   ]
  },
  {
   "cell_type": "code",
   "execution_count": 1186,
   "id": "9c16058b",
   "metadata": {},
   "outputs": [
    {
     "name": "stdout",
     "output_type": "stream",
     "text": [
      "0.9946014607812004\n"
     ]
    }
   ],
   "source": [
    "# Compute auc\n",
    "auc = roc_auc_score(y_test, predictions)\n",
    "print(auc)"
   ]
  },
  {
   "cell_type": "markdown",
   "id": "4afa010b",
   "metadata": {},
   "source": [
    "Plot AUC-ROC curve"
   ]
  },
  {
   "cell_type": "code",
   "execution_count": 1187,
   "id": "dfc2ffb9",
   "metadata": {},
   "outputs": [
    {
     "data": {
      "image/png": "[encoded data removed]",
      "text/plain": [
       "<Figure size 432x288 with 1 Axes>"
      ]
     },
     "metadata": {
      "needs_background": "light"
     },
     "output_type": "display_data"
    }
   ],
   "source": [
    "# Plot AUC-ROC curve\n",
    "plt.plot(false_positive, true_positive)\n",
    "plt.plot([0, 1], [0, 1])\n",
    "plt.plot([0, 1], [0, auc])\n",
    "\n",
    "plt.xlabel(\"False Positive Rate\")\n",
    "plt.ylabel(\"True Positive Rate\")\n",
    "plt.title(\"AUC-ROC Curve\")\n",
    "plt.show()"
   ]
  },
  {
   "cell_type": "markdown",
   "id": "77b8206f",
   "metadata": {},
   "source": [
    "Compute the precision-recall curve and plot"
   ]
  },
  {
   "cell_type": "code",
   "execution_count": 1188,
   "id": "09e8bab8",
   "metadata": {
    "scrolled": true
   },
   "outputs": [
    {
     "data": {
      "image/png": "[encoded data removed]",
      "text/plain": [
       "<Figure size 432x288 with 1 Axes>"
      ]
     },
     "metadata": {
      "needs_background": "light"
     },
     "output_type": "display_data"
    }
   ],
   "source": [
    "# Compute the probabilities of the positives\n",
    "y_proba = grid_search.predict_proba(X_test)[:,1]\n",
    "# Compute the precision-recall curve\n",
    "precision, recall, __ = precision_recall_curve(y_test, y_proba)\n",
    "# Plot the curve\n",
    "plt.plot(recall, precision)\n",
    "plt.xlabel(\"Recall\")\n",
    "plt.ylabel(\"Precision\")\n",
    "plt.title(\"Precision-Recall Curve\")\n",
    "plt.show()"
   ]
  },
  {
   "cell_type": "markdown",
   "id": "822ca011",
   "metadata": {},
   "source": [
    "5-Fold Cross Validation"
   ]
  },
  {
   "cell_type": "markdown",
   "id": "3eae2a0c",
   "metadata": {},
   "source": [
    "As we can see in the results,selecting different portion of the data affects the performance."
   ]
  },
  {
   "cell_type": "code",
   "execution_count": 1189,
   "id": "92c43b69",
   "metadata": {},
   "outputs": [
    {
     "name": "stdout",
     "output_type": "stream",
     "text": [
      "Score: 0.9123\n",
      "Score: 0.9561\n",
      "Score: 0.9649\n",
      "Score: 0.9561\n",
      "Score: 0.9558\n"
     ]
    },
    {
     "name": "stderr",
     "output_type": "stream",
     "text": [
      "C:\\Users\\Hp\\anaconda3\\lib\\site-packages\\sklearn\\linear_model\\_logistic.py:814: ConvergenceWarning: lbfgs failed to converge (status=1):\n",
      "STOP: TOTAL NO. of ITERATIONS REACHED LIMIT.\n",
      "\n",
      "Increase the number of iterations (max_iter) or scale the data as shown in:\n",
      "    https://scikit-learn.org/stable/modules/preprocessing.html\n",
      "Please also refer to the documentation for alternative solver options:\n",
      "    https://scikit-learn.org/stable/modules/linear_model.html#logistic-regression\n",
      "  n_iter_i = _check_optimize_result(\n",
      "C:\\Users\\Hp\\anaconda3\\lib\\site-packages\\sklearn\\linear_model\\_logistic.py:814: ConvergenceWarning: lbfgs failed to converge (status=1):\n",
      "STOP: TOTAL NO. of ITERATIONS REACHED LIMIT.\n",
      "\n",
      "Increase the number of iterations (max_iter) or scale the data as shown in:\n",
      "    https://scikit-learn.org/stable/modules/preprocessing.html\n",
      "Please also refer to the documentation for alternative solver options:\n",
      "    https://scikit-learn.org/stable/modules/linear_model.html#logistic-regression\n",
      "  n_iter_i = _check_optimize_result(\n",
      "C:\\Users\\Hp\\anaconda3\\lib\\site-packages\\sklearn\\linear_model\\_logistic.py:814: ConvergenceWarning: lbfgs failed to converge (status=1):\n",
      "STOP: TOTAL NO. of ITERATIONS REACHED LIMIT.\n",
      "\n",
      "Increase the number of iterations (max_iter) or scale the data as shown in:\n",
      "    https://scikit-learn.org/stable/modules/preprocessing.html\n",
      "Please also refer to the documentation for alternative solver options:\n",
      "    https://scikit-learn.org/stable/modules/linear_model.html#logistic-regression\n",
      "  n_iter_i = _check_optimize_result(\n",
      "C:\\Users\\Hp\\anaconda3\\lib\\site-packages\\sklearn\\linear_model\\_logistic.py:814: ConvergenceWarning: lbfgs failed to converge (status=1):\n",
      "STOP: TOTAL NO. of ITERATIONS REACHED LIMIT.\n",
      "\n",
      "Increase the number of iterations (max_iter) or scale the data as shown in:\n",
      "    https://scikit-learn.org/stable/modules/preprocessing.html\n",
      "Please also refer to the documentation for alternative solver options:\n",
      "    https://scikit-learn.org/stable/modules/linear_model.html#logistic-regression\n",
      "  n_iter_i = _check_optimize_result(\n",
      "C:\\Users\\Hp\\anaconda3\\lib\\site-packages\\sklearn\\linear_model\\_logistic.py:814: ConvergenceWarning: lbfgs failed to converge (status=1):\n",
      "STOP: TOTAL NO. of ITERATIONS REACHED LIMIT.\n",
      "\n",
      "Increase the number of iterations (max_iter) or scale the data as shown in:\n",
      "    https://scikit-learn.org/stable/modules/preprocessing.html\n",
      "Please also refer to the documentation for alternative solver options:\n",
      "    https://scikit-learn.org/stable/modules/linear_model.html#logistic-regression\n",
      "  n_iter_i = _check_optimize_result(\n"
     ]
    }
   ],
   "source": [
    "# 5-Fold Cross validation\n",
    "kf = KFold(n_splits=5)\n",
    "\n",
    "# For loop to train and evaluate the model \n",
    "for train_index, evaluation_index in kf.split(X):\n",
    "  # Training and evaluation data for this fold\n",
    "  X_train, X_evaluation = X[train_index], X[evaluation_index]\n",
    "  y_train, y_evaluation = y[train_index], y[evaluation_index]\n",
    "\n",
    "  # Train the model\n",
    "  log_model.fit(X_train, y_train)\n",
    "\n",
    "  # Evaluate the model\n",
    "  y_pred =  log_model.predict(X_evaluation)\n",
    "  score =  log_model.score(X_evaluation, y_evaluation)\n",
    "\n",
    "  # Print the evaluation score\n",
    "  print(f\"Score: {score:.4f}\")"
   ]
  },
  {
   "cell_type": "markdown",
   "id": "016ad620",
   "metadata": {},
   "source": [
    "### Question 2\n",
    "\n",
    "Report your observations on how the performance is affected when the parameters change and **why.** So, pick parameters that you can explain the reason behind the effect on the performance."
   ]
  },
  {
   "cell_type": "markdown",
   "id": "74ac9949",
   "metadata": {},
   "source": [
    "**Your Answer:** "
   ]
  },
  {
   "cell_type": "markdown",
   "id": "5c5f25be",
   "metadata": {},
   "source": [
    "### Question 3\n",
    "\n",
    "Using confusion matrix, explain the performance of the model briefly."
   ]
  },
  {
   "cell_type": "markdown",
   "id": "eda58286",
   "metadata": {},
   "source": [
    "**Your Answer:** In the confusion matrix, we can see that the model is performing well. The true positive and true negative rates are very high."
   ]
  },
  {
   "cell_type": "markdown",
   "id": "777e95ee",
   "metadata": {},
   "source": [
    "### Question 4\n",
    "\n",
    "Examine the curves and explain the performance of the model briefly."
   ]
  },
  {
   "cell_type": "markdown",
   "id": "6753c905",
   "metadata": {},
   "source": [
    "**Your Answer:** ROC is a curve that shows false positive rate and true positive rate. AUC is the area under the ROC. High AUC means data is well seperable. AUC is 0.99, so it is almost 1. That means This data is well seperable. In the precision-recall curve, it can be seen that we have both high precision and high recall. It means classifier works well."
   ]
  },
  {
   "cell_type": "markdown",
   "id": "e0e7cbfe",
   "metadata": {},
   "source": [
    "### Apply another classifier that you have chosen\n",
    "* Report the performance of the model with appropriate metrics (at least 4) on the test data.\n",
    "* Plot confusion matrix of the predictions and actual values.\n",
    "* Answer Question 5 and 6.\n",
    "\n",
    "*You do not need to perform hyperparameter optimization for this section.*"
   ]
  },
  {
   "cell_type": "markdown",
   "id": "50e466f5",
   "metadata": {},
   "source": [
    "I chose naive bayes classifier because given data it continuous. Classifier types like svm do not work with continuos data."
   ]
  },
  {
   "cell_type": "code",
   "execution_count": 1190,
   "id": "369f54f7",
   "metadata": {},
   "outputs": [],
   "source": [
    "# Apply gaussian naive bayes\n",
    "clf = GaussianNB()\n",
    "clf.fit(X_train, y_train)\n",
    "# Make prediction\n",
    "y_pred = clf.predict(X_test)"
   ]
  },
  {
   "cell_type": "markdown",
   "id": "f586a1f6",
   "metadata": {},
   "source": [
    "Precision= tp / (tp+fp).The precision score is high, so if the model classifies an element as positive, then it is likely that it is truly positive."
   ]
  },
  {
   "cell_type": "code",
   "execution_count": 1191,
   "id": "b71aa6b3",
   "metadata": {},
   "outputs": [
    {
     "data": {
      "text/plain": [
       "0.9538461538461539"
      ]
     },
     "execution_count": 1191,
     "metadata": {},
     "output_type": "execute_result"
    }
   ],
   "source": [
    "# Compute precision score\n",
    "precision = precision_score(y_test, y_pred)\n",
    "precision"
   ]
  },
  {
   "cell_type": "markdown",
   "id": "570e38db",
   "metadata": {},
   "source": [
    "Accuracy score is high so model classifies well."
   ]
  },
  {
   "cell_type": "code",
   "execution_count": 1192,
   "id": "e5d9d6f4",
   "metadata": {},
   "outputs": [
    {
     "data": {
      "text/plain": [
       "0.9298245614035088"
      ]
     },
     "execution_count": 1192,
     "metadata": {},
     "output_type": "execute_result"
    }
   ],
   "source": [
    "# Compute accuracy score\n",
    "accuracy = accuracy_score(y_test, y_pred)\n",
    "accuracy"
   ]
  },
  {
   "cell_type": "markdown",
   "id": "a2b9b4b8",
   "metadata": {},
   "source": [
    "Recall = tp/(tp+fn).Recall score is high, so model has high accuracy to classify positive values."
   ]
  },
  {
   "cell_type": "code",
   "execution_count": 1193,
   "id": "e785c868",
   "metadata": {},
   "outputs": [
    {
     "data": {
      "text/plain": [
       "0.9253731343283582"
      ]
     },
     "execution_count": 1193,
     "metadata": {},
     "output_type": "execute_result"
    }
   ],
   "source": [
    "# Compute recall score\n",
    "recall = recall_score(y_test, y_pred)\n",
    "recall"
   ]
  },
  {
   "cell_type": "markdown",
   "id": "90c466fc",
   "metadata": {},
   "source": [
    "AUC-ROC score is high. So area under ROC curve is close to 1. That means, data is well seperable."
   ]
  },
  {
   "cell_type": "code",
   "execution_count": 1194,
   "id": "9e5005d4",
   "metadata": {},
   "outputs": [
    {
     "data": {
      "text/plain": [
       "0.9307716735471578"
      ]
     },
     "execution_count": 1194,
     "metadata": {},
     "output_type": "execute_result"
    }
   ],
   "source": [
    "# Compute auc\n",
    "auc_roc = roc_auc_score(y_test, y_pred)\n",
    "auc_roc"
   ]
  },
  {
   "cell_type": "markdown",
   "id": "80d4df98",
   "metadata": {},
   "source": [
    "Plot confusion matrix"
   ]
  },
  {
   "cell_type": "code",
   "execution_count": 1195,
   "id": "96524db1",
   "metadata": {},
   "outputs": [
    {
     "data": {
      "image/png": "[encoded data removed]",
      "text/plain": [
       "<Figure size 432x288 with 2 Axes>"
      ]
     },
     "metadata": {
      "needs_background": "light"
     },
     "output_type": "display_data"
    }
   ],
   "source": [
    "# Plot confusion matrix\n",
    "cm = confusion_matrix(y_test, y_pred)\n",
    "sns.heatmap(cm, annot=True)\n",
    "plt.xlabel(\"Predicted label\")\n",
    "plt.ylabel(\"True label\")\n",
    "plt.title(\"Confusion Matrix\")\n",
    "plt.show()"
   ]
  },
  {
   "cell_type": "markdown",
   "id": "a7a2a614",
   "metadata": {},
   "source": [
    "### Question 5\n",
    "Using confusion matrix, explain the performance of the model briefly. Compare the performance of this model with logistic regression model."
   ]
  },
  {
   "cell_type": "markdown",
   "id": "e64c7679",
   "metadata": {},
   "source": [
    "**Your Answer:** If we compare it with logistic regression, we can say that it performs slightly worse, but still has a high accuracy rate.The true positive and true negative rates are high."
   ]
  },
  {
   "cell_type": "markdown",
   "id": "9b3cc28c",
   "metadata": {},
   "source": [
    "### Question 6\n",
    "\n",
    "When does the \"accuracy\" metric fails to represent the success of our model so that we rely on other metrics? Think about possible scenarios and give a single example and explain briefly."
   ]
  },
  {
   "cell_type": "markdown",
   "id": "e68c9a6f",
   "metadata": {},
   "source": [
    "**Your Answer:** Let's say we have a dataset containing 100 people with cancer and 1 healthy person. If a model always predicts that a person has cancer, then it may appear successful based on metrics, but in reality, it is not a good model. This is because the model is not able to accurately predict whether a person is healthy or not. In order to have a successful model, it should be able to make accurate predictions for both healthy and unhealthy individuals."
   ]
  },
  {
   "cell_type": "markdown",
   "id": "adfe6123",
   "metadata": {},
   "source": [
    "## Clustering"
   ]
  },
  {
   "cell_type": "markdown",
   "id": "111e5d95",
   "metadata": {},
   "source": [
    "*Recall: Clustering is an approach of unsupervised learning. In clustering, aim is to split the database into several clusters/groups in where there is no given information of classes. It can be used for anomaly detection, customer segmentation and so on.*"
   ]
  },
  {
   "cell_type": "markdown",
   "id": "1fc85bde",
   "metadata": {},
   "source": [
    "We will be using penguins data that you are familiar from the visualization recitation. Drop the rows that contain null value. You are going to only use following columns (attributes/features):\n",
    "\n",
    "1. \"bill_length_mm\"\n",
    "2. \"bill_depth_mm\"\n",
    "3. \"flipper_length_mm\"\n",
    "4. \"body_mass_g\"<br />and \"species\" (this feature will only be used to compare what we have found with clustering approach)"
   ]
  },
  {
   "cell_type": "markdown",
   "id": "8f10da37",
   "metadata": {},
   "source": [
    "Load penguins dataset, drop unnecessary columns and the rows that contain null value."
   ]
  },
  {
   "cell_type": "code",
   "execution_count": 1196,
   "id": "115f17ea",
   "metadata": {},
   "outputs": [],
   "source": [
    "# Load data\n",
    "penguins = load_penguins()\n",
    "# Drop unnecessary columns\n",
    "penguins = penguins.drop(columns=['island','sex','year'])\n",
    "# Drop rows that contain null value\n",
    "penguins = penguins.dropna()"
   ]
  },
  {
   "cell_type": "markdown",
   "id": "192f604c",
   "metadata": {},
   "source": [
    "### Apply K-Means"
   ]
  },
  {
   "cell_type": "markdown",
   "id": "fdd9238c",
   "metadata": {},
   "source": [
    "* Use the dataset with 4 columns as **\"bill_length_mm\",\n",
    "\"bill_depth_mm\",\n",
    "\"flipper_length_mm\" and\n",
    "\"body_mass_g\".**\n",
    "* Apply PCA and return 2 principal components. This is done for visualizing purposes. Since dataset does not contain numerous features, information loss due to PCA is negligible.\n",
    "\n",
    "* Report sums of squared error between centroids and within the clusters (also called total inertia).\n",
    "* Answer Question 7."
   ]
  },
  {
   "cell_type": "markdown",
   "id": "04069094",
   "metadata": {},
   "source": [
    "Map species with numerical values to avoid errors"
   ]
  },
  {
   "cell_type": "code",
   "execution_count": 1197,
   "id": "242cf092",
   "metadata": {},
   "outputs": [],
   "source": [
    "# Mapping with numerical values\n",
    "penguins['species'] = penguins['species'].map({'Gentoo': 1, 'Adelie': 2, 'Chinstrap': 3})"
   ]
  },
  {
   "cell_type": "markdown",
   "id": "139f73a4",
   "metadata": {},
   "source": [
    "Apply K-Means"
   ]
  },
  {
   "cell_type": "code",
   "execution_count": 1198,
   "id": "979bd1e0",
   "metadata": {},
   "outputs": [],
   "source": [
    "# Apply K-means\n",
    "kmeans = KMeans(n_clusters=3)\n",
    "kmeans.fit(penguins)\n",
    "# Make prediction\n",
    "labels = kmeans.predict(penguins)"
   ]
  },
  {
   "cell_type": "markdown",
   "id": "d3e198a0",
   "metadata": {},
   "source": [
    "Apply PCA and return 2 principal components(This is done for visualizing purposes). "
   ]
  },
  {
   "cell_type": "code",
   "execution_count": 1199,
   "id": "b904a1f7",
   "metadata": {},
   "outputs": [],
   "source": [
    "# Apply PCA\n",
    "pca = PCA(n_components=2)\n",
    "pca.fit(penguins)\n",
    "penguins_pca = pca.transform(penguins)"
   ]
  },
  {
   "cell_type": "markdown",
   "id": "43289059",
   "metadata": {},
   "source": [
    "Sums of squared error between centroids and within the clusters(total inertia) is high, so in clusters there are points far from arithmetic mean of the clusters. "
   ]
  },
  {
   "cell_type": "code",
   "execution_count": 1200,
   "id": "e15a1350",
   "metadata": {},
   "outputs": [
    {
     "data": {
      "text/plain": [
       "29178416.688844558"
      ]
     },
     "execution_count": 1200,
     "metadata": {},
     "output_type": "execute_result"
    }
   ],
   "source": [
    "# Compute SSE\n",
    "total_inertia = kmeans.inertia_\n",
    "total_inertia"
   ]
  },
  {
   "cell_type": "markdown",
   "id": "f1ecf5f8",
   "metadata": {},
   "source": [
    "### Plot Clusters\n",
    "\n",
    "* Cluster the resulting dataset into 3 groups. Plot the scatter graph. \n",
    "* Mark 1 sample that can be considered as outlier for each cluster in the graph with a different color.\n",
    "* Answer Question 6.  "
   ]
  },
  {
   "cell_type": "markdown",
   "id": "cf6dced2",
   "metadata": {},
   "source": [
    "Create a scatter plot to visualize the clusters of penguin data."
   ]
  },
  {
   "cell_type": "code",
   "execution_count": 1201,
   "id": "931bd209",
   "metadata": {},
   "outputs": [],
   "source": [
    "outliers = []\n",
    "# Find outlier points\n",
    "for i in range(3):\n",
    "    points_in_cluster = penguins_pca[labels==i]\n",
    "    reference_point = np.mean(points_in_cluster,axis=0)\n",
    "    distances = []\n",
    "    for i in points_in_cluster:\n",
    "        distances.append(np.linalg.norm((points_in_cluster - reference_point), axis=1))\n",
    "    outliers.append(points_in_cluster[np.argmax(distances)])"
   ]
  },
  {
   "cell_type": "markdown",
   "id": "1635790e",
   "metadata": {},
   "source": [
    "Plot Outliers (reference points are the first elements of each cluster)."
   ]
  },
  {
   "cell_type": "code",
   "execution_count": 1202,
   "id": "f45c18f1",
   "metadata": {},
   "outputs": [
    {
     "data": {
      "image/png": "[encoded data removed]",
      "text/plain": [
       "<Figure size 432x288 with 1 Axes>"
      ]
     },
     "metadata": {
      "needs_background": "light"
     },
     "output_type": "display_data"
    }
   ],
   "source": [
    "# Plot 2d penguins data\n",
    "plt.scatter(penguins_pca[:,0], penguins_pca[:,1], c=labels)\n",
    "for i in outliers:\n",
    "    # Plot outliers\n",
    "    plt.scatter(i[0], i[1], c=\"red\")\n",
    "plt.title(\"Penguins clusters\")\n",
    "plt.show()"
   ]
  },
  {
   "cell_type": "markdown",
   "id": "b1a1b88c",
   "metadata": {},
   "source": [
    "### Question 7\n",
    "\n",
    "Examine clusters and report what do samples in same cluster have in common? Does your clustering algorithm split the data according to the species?"
   ]
  },
  {
   "cell_type": "code",
   "execution_count": 1205,
   "id": "153b1c45",
   "metadata": {},
   "outputs": [],
   "source": [
    "cluster1 = penguins[labels == 0]\n",
    "cluster2 = penguins[labels == 1]\n",
    "cluster3 = penguins[labels == 2]"
   ]
  },
  {
   "cell_type": "markdown",
   "id": "a96a9ea7",
   "metadata": {},
   "source": [
    "I calculated std/ mean to see ho"
   ]
  },
  {
   "cell_type": "code",
   "execution_count": 1213,
   "id": "5b1e8063",
   "metadata": {},
   "outputs": [
    {
     "data": {
      "text/html": [
       "<div>\n",
       "<style scoped>\n",
       "    .dataframe tbody tr th:only-of-type {\n",
       "        vertical-align: middle;\n",
       "    }\n",
       "\n",
       "    .dataframe tbody tr th {\n",
       "        vertical-align: top;\n",
       "    }\n",
       "\n",
       "    .dataframe thead th {\n",
       "        text-align: right;\n",
       "    }\n",
       "</style>\n",
       "<table border=\"1\" class=\"dataframe\">\n",
       "  <thead>\n",
       "    <tr style=\"text-align: right;\">\n",
       "      <th></th>\n",
       "      <th>species</th>\n",
       "      <th>bill_length_mm</th>\n",
       "      <th>bill_depth_mm</th>\n",
       "      <th>flipper_length_mm</th>\n",
       "      <th>body_mass_g</th>\n",
       "    </tr>\n",
       "  </thead>\n",
       "  <tbody>\n",
       "    <tr>\n",
       "      <th>0</th>\n",
       "      <td>2</td>\n",
       "      <td>39.1</td>\n",
       "      <td>18.7</td>\n",
       "      <td>181.0</td>\n",
       "      <td>3750.0</td>\n",
       "    </tr>\n",
       "    <tr>\n",
       "      <th>1</th>\n",
       "      <td>2</td>\n",
       "      <td>39.5</td>\n",
       "      <td>17.4</td>\n",
       "      <td>186.0</td>\n",
       "      <td>3800.0</td>\n",
       "    </tr>\n",
       "    <tr>\n",
       "      <th>2</th>\n",
       "      <td>2</td>\n",
       "      <td>40.3</td>\n",
       "      <td>18.0</td>\n",
       "      <td>195.0</td>\n",
       "      <td>3250.0</td>\n",
       "    </tr>\n",
       "    <tr>\n",
       "      <th>4</th>\n",
       "      <td>2</td>\n",
       "      <td>36.7</td>\n",
       "      <td>19.3</td>\n",
       "      <td>193.0</td>\n",
       "      <td>3450.0</td>\n",
       "    </tr>\n",
       "    <tr>\n",
       "      <th>5</th>\n",
       "      <td>2</td>\n",
       "      <td>39.3</td>\n",
       "      <td>20.6</td>\n",
       "      <td>190.0</td>\n",
       "      <td>3650.0</td>\n",
       "    </tr>\n",
       "    <tr>\n",
       "      <th>...</th>\n",
       "      <td>...</td>\n",
       "      <td>...</td>\n",
       "      <td>...</td>\n",
       "      <td>...</td>\n",
       "      <td>...</td>\n",
       "    </tr>\n",
       "    <tr>\n",
       "      <th>337</th>\n",
       "      <td>3</td>\n",
       "      <td>46.8</td>\n",
       "      <td>16.5</td>\n",
       "      <td>189.0</td>\n",
       "      <td>3650.0</td>\n",
       "    </tr>\n",
       "    <tr>\n",
       "      <th>338</th>\n",
       "      <td>3</td>\n",
       "      <td>45.7</td>\n",
       "      <td>17.0</td>\n",
       "      <td>195.0</td>\n",
       "      <td>3650.0</td>\n",
       "    </tr>\n",
       "    <tr>\n",
       "      <th>340</th>\n",
       "      <td>3</td>\n",
       "      <td>43.5</td>\n",
       "      <td>18.1</td>\n",
       "      <td>202.0</td>\n",
       "      <td>3400.0</td>\n",
       "    </tr>\n",
       "    <tr>\n",
       "      <th>341</th>\n",
       "      <td>3</td>\n",
       "      <td>49.6</td>\n",
       "      <td>18.2</td>\n",
       "      <td>193.0</td>\n",
       "      <td>3775.0</td>\n",
       "    </tr>\n",
       "    <tr>\n",
       "      <th>343</th>\n",
       "      <td>3</td>\n",
       "      <td>50.2</td>\n",
       "      <td>18.7</td>\n",
       "      <td>198.0</td>\n",
       "      <td>3775.0</td>\n",
       "    </tr>\n",
       "  </tbody>\n",
       "</table>\n",
       "<p>165 rows × 5 columns</p>\n",
       "</div>"
      ],
      "text/plain": [
       "     species  bill_length_mm  bill_depth_mm  flipper_length_mm  body_mass_g\n",
       "0          2            39.1           18.7              181.0       3750.0\n",
       "1          2            39.5           17.4              186.0       3800.0\n",
       "2          2            40.3           18.0              195.0       3250.0\n",
       "4          2            36.7           19.3              193.0       3450.0\n",
       "5          2            39.3           20.6              190.0       3650.0\n",
       "..       ...             ...            ...                ...          ...\n",
       "337        3            46.8           16.5              189.0       3650.0\n",
       "338        3            45.7           17.0              195.0       3650.0\n",
       "340        3            43.5           18.1              202.0       3400.0\n",
       "341        3            49.6           18.2              193.0       3775.0\n",
       "343        3            50.2           18.7              198.0       3775.0\n",
       "\n",
       "[165 rows x 5 columns]"
      ]
     },
     "execution_count": 1213,
     "metadata": {},
     "output_type": "execute_result"
    }
   ],
   "source": [
    "cluster1"
   ]
  },
  {
   "cell_type": "code",
   "execution_count": 1206,
   "id": "cc015867",
   "metadata": {},
   "outputs": [
    {
     "data": {
      "text/plain": [
       "species              0.206358\n",
       "bill_length_mm       0.130434\n",
       "bill_depth_mm        0.063374\n",
       "flipper_length_mm    0.034653\n",
       "body_mass_g          0.083278\n",
       "dtype: float64"
      ]
     },
     "execution_count": 1206,
     "metadata": {},
     "output_type": "execute_result"
    }
   ],
   "source": [
    "cluster1.std()/cluster1.mean()"
   ]
  },
  {
   "cell_type": "code",
   "execution_count": 1207,
   "id": "da3d992d",
   "metadata": {},
   "outputs": [
    {
     "data": {
      "text/plain": [
       "species              0.000000\n",
       "bill_length_mm       0.060800\n",
       "bill_depth_mm        0.056477\n",
       "flipper_length_mm    0.027024\n",
       "body_mass_g          0.058634\n",
       "dtype: float64"
      ]
     },
     "execution_count": 1207,
     "metadata": {},
     "output_type": "execute_result"
    }
   ],
   "source": [
    "cluster2.std()/cluster2.mean()"
   ]
  },
  {
   "cell_type": "code",
   "execution_count": 1209,
   "id": "b19d040e",
   "metadata": {
    "scrolled": true
   },
   "outputs": [
    {
     "data": {
      "text/plain": [
       "species              0.436485\n",
       "bill_length_mm       0.089849\n",
       "bill_depth_mm        0.156906\n",
       "flipper_length_mm    0.045317\n",
       "body_mass_g          0.062003\n",
       "dtype: float64"
      ]
     },
     "execution_count": 1209,
     "metadata": {},
     "output_type": "execute_result"
    }
   ],
   "source": [
    "cluster3.std()/cluster3.mean()"
   ]
  },
  {
   "cell_type": "code",
   "execution_count": 1210,
   "id": "9b041ebf",
   "metadata": {},
   "outputs": [
    {
     "data": {
      "text/plain": [
       "2.309090909090909"
      ]
     },
     "execution_count": 1210,
     "metadata": {},
     "output_type": "execute_result"
    }
   ],
   "source": [
    "cluster1[\"species\"].mean()"
   ]
  },
  {
   "cell_type": "code",
   "execution_count": 1211,
   "id": "ffaa8e0b",
   "metadata": {},
   "outputs": [
    {
     "data": {
      "text/plain": [
       "1.0"
      ]
     },
     "execution_count": 1211,
     "metadata": {},
     "output_type": "execute_result"
    }
   ],
   "source": [
    "cluster2[\"species\"].mean()"
   ]
  },
  {
   "cell_type": "code",
   "execution_count": 1212,
   "id": "90d210dd",
   "metadata": {},
   "outputs": [
    {
     "data": {
      "text/plain": [
       "1.6635514018691588"
      ]
     },
     "execution_count": 1212,
     "metadata": {},
     "output_type": "execute_result"
    }
   ],
   "source": [
    "cluster3[\"species\"].mean()"
   ]
  },
  {
   "cell_type": "code",
   "execution_count": null,
   "id": "546db0cd",
   "metadata": {},
   "outputs": [],
   "source": [
    "cluster2"
   ]
  },
  {
   "cell_type": "markdown",
   "id": "489d213e",
   "metadata": {},
   "source": [
    "**Your Answer:** Yes, the algorithm is doing clustering based on the species (we can see this by examining the means of the species columns of the clusters). In order to find the common characteristics of the samples in the same cluster, I divided the standard deviations by the means.We can say that the attributes with small results are common among samples within the same cluster. All the attributes (bill_length_mm, bill_depth_mm, flipper_length_mm, body_mass_g) had small results, but the smallest was flipper_length_mm."
   ]
  },
  {
   "cell_type": "markdown",
   "id": "d579febc",
   "metadata": {},
   "source": [
    "### Evaluating Clusters\n",
    "\n",
    "* Report SSE (Sums of squared error, or inertia). Answer Question 8. \n",
    "\n",
    "*Hint: You may play with the k parameter to see how inertia changes and that may help you to answer the question.*\n",
    "\n"
   ]
  },
  {
   "cell_type": "markdown",
   "id": "cd489cad",
   "metadata": {},
   "source": [
    "There are 342 rows in dataset.If we have 342 clusters, then inertia equals zero."
   ]
  },
  {
   "cell_type": "code",
   "execution_count": null,
   "id": "6bfbe41b",
   "metadata": {},
   "outputs": [],
   "source": [
    "# Apply K-means with n clusters\n",
    "kmeans = KMeans(n_clusters=342)\n",
    "kmeans.fit(penguins)\n",
    "# Compute inertia\n",
    "kmeans.inertia_"
   ]
  },
  {
   "cell_type": "markdown",
   "id": "b987b3e5",
   "metadata": {},
   "source": [
    "### Question 8\n",
    "\n",
    "If SSE is 0, would you call the clustering successful? In which scenario SSE could be 0?"
   ]
  },
  {
   "cell_type": "markdown",
   "id": "b6b79ede",
   "metadata": {},
   "source": [
    "**Your Answer:** If SSE is equal to zero, there are as many identical groups as the number of clusters. For example, suppose we have 3 identical birds, 2 identical cats and 4 identical dogs and 3 clusters, then SSE equals zero. Or suppose we have 10 different dogs and 10 clusters. In this case too, the SSE is zero. If SSE is zero, we cannot say that clustering is successful because clustering is the process of clustering based on the similarity of features. If they're identical, clustering doesn't make any sense."
   ]
  },
  {
   "cell_type": "markdown",
   "id": "3ac6e88e",
   "metadata": {},
   "source": [
    "I observed that when the number of clusters is equal to the number of rows in this data, the inertia of the k-means algorithm becomes zero."
   ]
  }
 ],
 "metadata": {
  "kernelspec": {
   "display_name": "Python 3 (ipykernel)",
   "language": "python",
   "name": "python3"
  },
  "language_info": {
   "codemirror_mode": {
    "name": "ipython",
    "version": 3
   },
   "file_extension": ".py",
   "mimetype": "text/x-python",
   "name": "python",
   "nbconvert_exporter": "python",
   "pygments_lexer": "ipython3",
   "version": "3.9.12"
  }
 },
 "nbformat": 4,
 "nbformat_minor": 5
}
