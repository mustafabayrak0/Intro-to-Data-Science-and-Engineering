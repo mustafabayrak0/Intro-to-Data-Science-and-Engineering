{
 "cells": [
  {
   "cell_type": "code",
   "execution_count": 773,
   "metadata": {},
   "outputs": [],
   "source": [
    "#MUSTAFA BAYRAK 150210339"
   ]
  },
  {
   "cell_type": "code",
   "execution_count": 774,
   "metadata": {},
   "outputs": [],
   "source": [
    "# MY QUERY\n",
    "\n",
    "# SELECT DISTINCT ?item ?itemLabel ?positionLabel ?height ?mass ?genderLabel ?followers\n",
    "# WHERE\n",
    "# {\n",
    "#   ?item wdt:P31 wd:Q5;\n",
    "#         wdt:P106 wd:Q937857;\n",
    "#         wdt:P27  wd:Q43;\n",
    "#   OPTIONAL{?item wdt:P2048 ?height .}\n",
    "#   OPTIONAL{?item wdt:P2067 ?mass .}\n",
    "#   OPTIONAL{?item wdt:P413 ?position .}\n",
    "#   OPTIONAL{?item wdt:P8687 ?followers .}\n",
    "#   OPTIONAL{?item wdt:P21 ?gender .}\n",
    "\n",
    "\n",
    "#   SERVICE wikibase:label { bd:serviceParam wikibase:language \"[AUTO_LANGUAGE],en\". }\n",
    "# }\n"
   ]
  },
  {
   "cell_type": "code",
   "execution_count": 775,
   "metadata": {},
   "outputs": [],
   "source": [
    "# Import pandas to analyze and manipulate data\n",
    "import pandas as pd\n"
   ]
  },
  {
   "cell_type": "code",
   "execution_count": 776,
   "metadata": {},
   "outputs": [],
   "source": [
    "# Read csv containing data from WikiData and create a dataframe(df is a dataframe)\n",
    "df = pd.read_csv('FootballPlayers.csv')"
   ]
  },
  {
   "cell_type": "code",
   "execution_count": 777,
   "metadata": {},
   "outputs": [
    {
     "data": {
      "text/html": [
       "<div>\n",
       "<style scoped>\n",
       "    .dataframe tbody tr th:only-of-type {\n",
       "        vertical-align: middle;\n",
       "    }\n",
       "\n",
       "    .dataframe tbody tr th {\n",
       "        vertical-align: top;\n",
       "    }\n",
       "\n",
       "    .dataframe thead th {\n",
       "        text-align: right;\n",
       "    }\n",
       "</style>\n",
       "<table border=\"1\" class=\"dataframe\">\n",
       "  <thead>\n",
       "    <tr style=\"text-align: right;\">\n",
       "      <th></th>\n",
       "      <th>item</th>\n",
       "      <th>itemLabel</th>\n",
       "      <th>positionLabel</th>\n",
       "      <th>height</th>\n",
       "      <th>mass</th>\n",
       "      <th>genderLabel</th>\n",
       "      <th>followers</th>\n",
       "    </tr>\n",
       "  </thead>\n",
       "  <tbody>\n",
       "    <tr>\n",
       "      <th>0</th>\n",
       "      <td>http://www.wikidata.org/entity/Q1406255</td>\n",
       "      <td>Ferhat Poyraz</td>\n",
       "      <td>savunma</td>\n",
       "      <td>NaN</td>\n",
       "      <td>NaN</td>\n",
       "      <td>erkek</td>\n",
       "      <td>NaN</td>\n",
       "    </tr>\n",
       "    <tr>\n",
       "      <th>1</th>\n",
       "      <td>http://www.wikidata.org/entity/Q1406255</td>\n",
       "      <td>Ferhat Poyraz</td>\n",
       "      <td>savunma</td>\n",
       "      <td>NaN</td>\n",
       "      <td>NaN</td>\n",
       "      <td>erkek</td>\n",
       "      <td>NaN</td>\n",
       "    </tr>\n",
       "    <tr>\n",
       "      <th>2</th>\n",
       "      <td>http://www.wikidata.org/entity/Q1406339</td>\n",
       "      <td>Ferit Cömert</td>\n",
       "      <td>savunma</td>\n",
       "      <td>NaN</td>\n",
       "      <td>NaN</td>\n",
       "      <td>erkek</td>\n",
       "      <td>NaN</td>\n",
       "    </tr>\n",
       "    <tr>\n",
       "      <th>3</th>\n",
       "      <td>http://www.wikidata.org/entity/Q248064</td>\n",
       "      <td>Zülküf Özer</td>\n",
       "      <td>kaleci</td>\n",
       "      <td>NaN</td>\n",
       "      <td>NaN</td>\n",
       "      <td>erkek</td>\n",
       "      <td>NaN</td>\n",
       "    </tr>\n",
       "    <tr>\n",
       "      <th>4</th>\n",
       "      <td>http://www.wikidata.org/entity/Q272727</td>\n",
       "      <td>Çağdaş Atan</td>\n",
       "      <td>stoper</td>\n",
       "      <td>183.0</td>\n",
       "      <td>77.0</td>\n",
       "      <td>erkek</td>\n",
       "      <td>53158.0</td>\n",
       "    </tr>\n",
       "  </tbody>\n",
       "</table>\n",
       "</div>"
      ],
      "text/plain": [
       "                                      item      itemLabel positionLabel  \\\n",
       "0  http://www.wikidata.org/entity/Q1406255  Ferhat Poyraz       savunma   \n",
       "1  http://www.wikidata.org/entity/Q1406255  Ferhat Poyraz       savunma   \n",
       "2  http://www.wikidata.org/entity/Q1406339   Ferit Cömert       savunma   \n",
       "3   http://www.wikidata.org/entity/Q248064    Zülküf Özer        kaleci   \n",
       "4   http://www.wikidata.org/entity/Q272727    Çağdaş Atan        stoper   \n",
       "\n",
       "   height  mass genderLabel  followers  \n",
       "0     NaN   NaN       erkek        NaN  \n",
       "1     NaN   NaN       erkek        NaN  \n",
       "2     NaN   NaN       erkek        NaN  \n",
       "3     NaN   NaN       erkek        NaN  \n",
       "4   183.0  77.0       erkek    53158.0  "
      ]
     },
     "execution_count": 777,
     "metadata": {},
     "output_type": "execute_result"
    }
   ],
   "source": [
    "# First 5 rows in my dataframe\n",
    "df.head(5)"
   ]
  },
  {
   "cell_type": "code",
   "execution_count": 778,
   "metadata": {},
   "outputs": [
    {
     "data": {
      "text/plain": [
       "1"
      ]
     },
     "execution_count": 778,
     "metadata": {},
     "output_type": "execute_result"
    }
   ],
   "source": [
    "# Count of exact duplicates\n",
    "df.duplicated().sum()\n",
    "# Actually there was not any exact duplicates in my csv but I modified it to show one exact duplicate"
   ]
  },
  {
   "cell_type": "code",
   "execution_count": 779,
   "metadata": {},
   "outputs": [],
   "source": [
    "# drop rows if there are exact duplicates\n",
    "df =df.drop_duplicates()\n"
   ]
  },
  {
   "cell_type": "code",
   "execution_count": 780,
   "metadata": {},
   "outputs": [
    {
     "data": {
      "text/plain": [
       "item                0\n",
       "itemLabel           0\n",
       "positionLabel     631\n",
       "height           3947\n",
       "mass             4206\n",
       "genderLabel         6\n",
       "followers        4475\n",
       "dtype: int64"
      ]
     },
     "execution_count": 780,
     "metadata": {},
     "output_type": "execute_result"
    }
   ],
   "source": [
    "# Count of missing values in each column\n",
    "df.isnull().sum()"
   ]
  },
  {
   "cell_type": "code",
   "execution_count": 781,
   "metadata": {},
   "outputs": [
    {
     "data": {
      "text/html": [
       "<div>\n",
       "<style scoped>\n",
       "    .dataframe tbody tr th:only-of-type {\n",
       "        vertical-align: middle;\n",
       "    }\n",
       "\n",
       "    .dataframe tbody tr th {\n",
       "        vertical-align: top;\n",
       "    }\n",
       "\n",
       "    .dataframe thead th {\n",
       "        text-align: right;\n",
       "    }\n",
       "</style>\n",
       "<table border=\"1\" class=\"dataframe\">\n",
       "  <thead>\n",
       "    <tr style=\"text-align: right;\">\n",
       "      <th></th>\n",
       "      <th>item</th>\n",
       "      <th>itemLabel</th>\n",
       "      <th>positionLabel</th>\n",
       "      <th>height</th>\n",
       "      <th>mass</th>\n",
       "      <th>genderLabel</th>\n",
       "      <th>followers</th>\n",
       "    </tr>\n",
       "  </thead>\n",
       "  <tbody>\n",
       "    <tr>\n",
       "      <th>0</th>\n",
       "      <td>False</td>\n",
       "      <td>False</td>\n",
       "      <td>False</td>\n",
       "      <td>True</td>\n",
       "      <td>True</td>\n",
       "      <td>False</td>\n",
       "      <td>True</td>\n",
       "    </tr>\n",
       "    <tr>\n",
       "      <th>2</th>\n",
       "      <td>False</td>\n",
       "      <td>False</td>\n",
       "      <td>False</td>\n",
       "      <td>True</td>\n",
       "      <td>True</td>\n",
       "      <td>False</td>\n",
       "      <td>True</td>\n",
       "    </tr>\n",
       "    <tr>\n",
       "      <th>3</th>\n",
       "      <td>False</td>\n",
       "      <td>False</td>\n",
       "      <td>False</td>\n",
       "      <td>True</td>\n",
       "      <td>True</td>\n",
       "      <td>False</td>\n",
       "      <td>True</td>\n",
       "    </tr>\n",
       "    <tr>\n",
       "      <th>4</th>\n",
       "      <td>False</td>\n",
       "      <td>False</td>\n",
       "      <td>False</td>\n",
       "      <td>False</td>\n",
       "      <td>False</td>\n",
       "      <td>False</td>\n",
       "      <td>False</td>\n",
       "    </tr>\n",
       "    <tr>\n",
       "      <th>5</th>\n",
       "      <td>False</td>\n",
       "      <td>False</td>\n",
       "      <td>False</td>\n",
       "      <td>True</td>\n",
       "      <td>True</td>\n",
       "      <td>False</td>\n",
       "      <td>True</td>\n",
       "    </tr>\n",
       "    <tr>\n",
       "      <th>...</th>\n",
       "      <td>...</td>\n",
       "      <td>...</td>\n",
       "      <td>...</td>\n",
       "      <td>...</td>\n",
       "      <td>...</td>\n",
       "      <td>...</td>\n",
       "      <td>...</td>\n",
       "    </tr>\n",
       "    <tr>\n",
       "      <th>4519</th>\n",
       "      <td>False</td>\n",
       "      <td>False</td>\n",
       "      <td>True</td>\n",
       "      <td>True</td>\n",
       "      <td>True</td>\n",
       "      <td>False</td>\n",
       "      <td>True</td>\n",
       "    </tr>\n",
       "    <tr>\n",
       "      <th>4520</th>\n",
       "      <td>False</td>\n",
       "      <td>False</td>\n",
       "      <td>True</td>\n",
       "      <td>True</td>\n",
       "      <td>True</td>\n",
       "      <td>False</td>\n",
       "      <td>True</td>\n",
       "    </tr>\n",
       "    <tr>\n",
       "      <th>4521</th>\n",
       "      <td>False</td>\n",
       "      <td>False</td>\n",
       "      <td>False</td>\n",
       "      <td>True</td>\n",
       "      <td>True</td>\n",
       "      <td>False</td>\n",
       "      <td>True</td>\n",
       "    </tr>\n",
       "    <tr>\n",
       "      <th>4522</th>\n",
       "      <td>False</td>\n",
       "      <td>False</td>\n",
       "      <td>False</td>\n",
       "      <td>True</td>\n",
       "      <td>True</td>\n",
       "      <td>False</td>\n",
       "      <td>True</td>\n",
       "    </tr>\n",
       "    <tr>\n",
       "      <th>4523</th>\n",
       "      <td>False</td>\n",
       "      <td>False</td>\n",
       "      <td>False</td>\n",
       "      <td>True</td>\n",
       "      <td>True</td>\n",
       "      <td>False</td>\n",
       "      <td>True</td>\n",
       "    </tr>\n",
       "  </tbody>\n",
       "</table>\n",
       "<p>4523 rows × 7 columns</p>\n",
       "</div>"
      ],
      "text/plain": [
       "       item  itemLabel  positionLabel  height   mass  genderLabel  followers\n",
       "0     False      False          False    True   True        False       True\n",
       "2     False      False          False    True   True        False       True\n",
       "3     False      False          False    True   True        False       True\n",
       "4     False      False          False   False  False        False      False\n",
       "5     False      False          False    True   True        False       True\n",
       "...     ...        ...            ...     ...    ...          ...        ...\n",
       "4519  False      False           True    True   True        False       True\n",
       "4520  False      False           True    True   True        False       True\n",
       "4521  False      False          False    True   True        False       True\n",
       "4522  False      False          False    True   True        False       True\n",
       "4523  False      False          False    True   True        False       True\n",
       "\n",
       "[4523 rows x 7 columns]"
      ]
     },
     "execution_count": 781,
     "metadata": {},
     "output_type": "execute_result"
    }
   ],
   "source": [
    "# Shows which values are missing or not\n",
    "pd.isna(df)\n"
   ]
  },
  {
   "cell_type": "code",
   "execution_count": 782,
   "metadata": {},
   "outputs": [],
   "source": [
    "# Drop rows if there missing values (this function will drop the row even if it has only one missing value)\n",
    "df = df.dropna()\n",
    "# Before executing this function shape of df is (4523,7), after the execution it is (31,7)\n"
   ]
  },
  {
   "cell_type": "code",
   "execution_count": 783,
   "metadata": {},
   "outputs": [
    {
     "name": "stdout",
     "output_type": "stream",
     "text": [
      "count of duplicates in positionLabel column: 22\n",
      "count of duplicates in height column: 14\n",
      "count of duplicates in mass column: 12\n",
      "count of duplicates in followers column: 5\n",
      "count of duplicates in item column: 5\n",
      "count of duplicates in itemLabel column: 5\n"
     ]
    }
   ],
   "source": [
    "# Counts of duplicates in each column\n",
    "print(\"count of duplicates in positionLabel column:\",df.duplicated(subset=\"positionLabel\").sum())\n",
    "print(\"count of duplicates in height column:\",df.duplicated(subset=\"height\").sum())\n",
    "print(\"count of duplicates in mass column:\",df.duplicated(subset=\"mass\").sum())\n",
    "print(\"count of duplicates in followers column:\",df.duplicated(subset=\"followers\").sum())\n",
    "print(\"count of duplicates in item column:\",df.duplicated(subset=\"item\").sum())\n",
    "print(\"count of duplicates in itemLabel column:\",df.duplicated(subset=\"itemLabel\").sum())"
   ]
  },
  {
   "cell_type": "code",
   "execution_count": 784,
   "metadata": {},
   "outputs": [],
   "source": [
    "# Merge rows if a football player have different positionLabels (grouped by item because different players may have same itemLabel)\n",
    "df = df.groupby('item', as_index=False).agg(\n",
    "    {'itemLabel': 'first', 'height': 'first', 'mass': 'first', 'genderLabel': 'first', 'followers': 'first', 'positionLabel': ', '.join})\n"
   ]
  },
  {
   "cell_type": "code",
   "execution_count": 785,
   "metadata": {},
   "outputs": [
    {
     "data": {
      "text/plain": [
       "0"
      ]
     },
     "execution_count": 785,
     "metadata": {},
     "output_type": "execute_result"
    }
   ],
   "source": [
    "#  Check for invalid values (height cannot be less than or equal to zero)\n",
    "(df[df['height'] < 0])['height'].count()\n"
   ]
  },
  {
   "cell_type": "code",
   "execution_count": 786,
   "metadata": {},
   "outputs": [
    {
     "data": {
      "text/plain": [
       "0"
      ]
     },
     "execution_count": 786,
     "metadata": {},
     "output_type": "execute_result"
    }
   ],
   "source": [
    "#  Check for invalid values (mass cannot be less than or equal to zero)\n",
    "(df[df['mass'] < 0])['mass'].count()\n"
   ]
  },
  {
   "cell_type": "code",
   "execution_count": 787,
   "metadata": {},
   "outputs": [
    {
     "data": {
      "text/plain": [
       "0"
      ]
     },
     "execution_count": 787,
     "metadata": {},
     "output_type": "execute_result"
    }
   ],
   "source": [
    "#  Check for invalid values (followers cannot be less than zero)\n",
    "(df[df['followers'] < 0])['followers'].count()\n",
    "\n"
   ]
  },
  {
   "cell_type": "code",
   "execution_count": 788,
   "metadata": {},
   "outputs": [],
   "source": [
    "#  Filtered dataframe will not contain invalid values (height,mass and followers cannot be less than zero)\n",
    "df = df[((df['height'] > 0) & (df['mass'] > 0) & (df['followers'] > 0))]\n"
   ]
  },
  {
   "cell_type": "code",
   "execution_count": 789,
   "metadata": {},
   "outputs": [],
   "source": [
    "# Used item column to group players,now droped item column to make DataFrame prettier(this is not a necessary operation)\n",
    "df = df.drop(['item'], axis=1)\n"
   ]
  },
  {
   "cell_type": "code",
   "execution_count": 790,
   "metadata": {},
   "outputs": [
    {
     "data": {
      "text/html": [
       "<div>\n",
       "<style scoped>\n",
       "    .dataframe tbody tr th:only-of-type {\n",
       "        vertical-align: middle;\n",
       "    }\n",
       "\n",
       "    .dataframe tbody tr th {\n",
       "        vertical-align: top;\n",
       "    }\n",
       "\n",
       "    .dataframe thead th {\n",
       "        text-align: right;\n",
       "    }\n",
       "</style>\n",
       "<table border=\"1\" class=\"dataframe\">\n",
       "  <thead>\n",
       "    <tr style=\"text-align: right;\">\n",
       "      <th></th>\n",
       "      <th>itemLabel</th>\n",
       "      <th>height</th>\n",
       "      <th>mass</th>\n",
       "      <th>genderLabel</th>\n",
       "      <th>followers</th>\n",
       "      <th>positionLabel</th>\n",
       "    </tr>\n",
       "  </thead>\n",
       "  <tbody>\n",
       "    <tr>\n",
       "      <th>0</th>\n",
       "      <td>Emre Çolak</td>\n",
       "      <td>168.0</td>\n",
       "      <td>62.0</td>\n",
       "      <td>erkek</td>\n",
       "      <td>955599.0</td>\n",
       "      <td>kanat</td>\n",
       "    </tr>\n",
       "    <tr>\n",
       "      <th>1</th>\n",
       "      <td>Semih Kaya</td>\n",
       "      <td>182.0</td>\n",
       "      <td>66.0</td>\n",
       "      <td>erkek</td>\n",
       "      <td>724737.0</td>\n",
       "      <td>savunma, stoper</td>\n",
       "    </tr>\n",
       "    <tr>\n",
       "      <th>2</th>\n",
       "      <td>Yusuf Erdoğan</td>\n",
       "      <td>171.0</td>\n",
       "      <td>68.0</td>\n",
       "      <td>erkek</td>\n",
       "      <td>93996.0</td>\n",
       "      <td>kanat</td>\n",
       "    </tr>\n",
       "    <tr>\n",
       "      <th>3</th>\n",
       "      <td>Mert Günok</td>\n",
       "      <td>196.0</td>\n",
       "      <td>92.0</td>\n",
       "      <td>erkek</td>\n",
       "      <td>322930.0</td>\n",
       "      <td>kaleci</td>\n",
       "    </tr>\n",
       "    <tr>\n",
       "      <th>4</th>\n",
       "      <td>Yekta Kurtuluş</td>\n",
       "      <td>173.0</td>\n",
       "      <td>69.0</td>\n",
       "      <td>erkek</td>\n",
       "      <td>413551.0</td>\n",
       "      <td>kanat</td>\n",
       "    </tr>\n",
       "  </tbody>\n",
       "</table>\n",
       "</div>"
      ],
      "text/plain": [
       "        itemLabel  height  mass genderLabel  followers    positionLabel\n",
       "0      Emre Çolak   168.0  62.0       erkek   955599.0            kanat\n",
       "1      Semih Kaya   182.0  66.0       erkek   724737.0  savunma, stoper\n",
       "2   Yusuf Erdoğan   171.0  68.0       erkek    93996.0            kanat\n",
       "3      Mert Günok   196.0  92.0       erkek   322930.0           kaleci\n",
       "4  Yekta Kurtuluş   173.0  69.0       erkek   413551.0            kanat"
      ]
     },
     "execution_count": 790,
     "metadata": {},
     "output_type": "execute_result"
    }
   ],
   "source": [
    "# Show head of dataframe\n",
    "df.head()\n"
   ]
  }
 ],
 "metadata": {
  "kernelspec": {
   "display_name": "Python 3.9.12 ('base')",
   "language": "python",
   "name": "python3"
  },
  "language_info": {
   "codemirror_mode": {
    "name": "ipython",
    "version": 3
   },
   "file_extension": ".py",
   "mimetype": "text/x-python",
   "name": "python",
   "nbconvert_exporter": "python",
   "pygments_lexer": "ipython3",
   "version": "3.9.12"
  },
  "orig_nbformat": 4,
  "vscode": {
   "interpreter": {
    "hash": "b683bd4b87c8b16609ac9a3ef3aab015b96a8503b853fa71d3fe1e7ebcd29d95"
   }
  }
 },
 "nbformat": 4,
 "nbformat_minor": 2
}
